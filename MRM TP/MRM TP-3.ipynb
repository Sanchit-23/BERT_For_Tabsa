{
 "cells": [
  {
   "cell_type": "code",
   "execution_count": 1,
   "id": "fc2d435c-e600-4b46-8efd-8b089b3d451e",
   "metadata": {},
   "outputs": [],
   "source": [
    "import numpy as np\n",
    "import matplotlib.pyplot as plt\n",
    "import pandas as pd\n",
    "import seaborn as sns"
   ]
  },
  {
   "cell_type": "code",
   "execution_count": 2,
   "id": "84805914-8a1c-4534-be59-d52bfaa894fc",
   "metadata": {},
   "outputs": [
    {
     "data": {
      "text/html": [
       "<div>\n",
       "<style scoped>\n",
       "    .dataframe tbody tr th:only-of-type {\n",
       "        vertical-align: middle;\n",
       "    }\n",
       "\n",
       "    .dataframe tbody tr th {\n",
       "        vertical-align: top;\n",
       "    }\n",
       "\n",
       "    .dataframe thead th {\n",
       "        text-align: right;\n",
       "    }\n",
       "</style>\n",
       "<table border=\"1\" class=\"dataframe\">\n",
       "  <thead>\n",
       "    <tr style=\"text-align: right;\">\n",
       "      <th></th>\n",
       "      <th>country</th>\n",
       "      <th>child_mort</th>\n",
       "      <th>exports</th>\n",
       "      <th>health</th>\n",
       "      <th>imports</th>\n",
       "      <th>income</th>\n",
       "      <th>inflation</th>\n",
       "      <th>life_expec</th>\n",
       "      <th>total_fer</th>\n",
       "      <th>gdpp</th>\n",
       "    </tr>\n",
       "  </thead>\n",
       "  <tbody>\n",
       "    <tr>\n",
       "      <th>0</th>\n",
       "      <td>Afghanistan</td>\n",
       "      <td>90.2</td>\n",
       "      <td>10.0</td>\n",
       "      <td>7.58</td>\n",
       "      <td>44.9</td>\n",
       "      <td>1610</td>\n",
       "      <td>9.44</td>\n",
       "      <td>56.2</td>\n",
       "      <td>5.82</td>\n",
       "      <td>553</td>\n",
       "    </tr>\n",
       "    <tr>\n",
       "      <th>1</th>\n",
       "      <td>Albania</td>\n",
       "      <td>16.6</td>\n",
       "      <td>28.0</td>\n",
       "      <td>6.55</td>\n",
       "      <td>48.6</td>\n",
       "      <td>9930</td>\n",
       "      <td>4.49</td>\n",
       "      <td>76.3</td>\n",
       "      <td>1.65</td>\n",
       "      <td>4090</td>\n",
       "    </tr>\n",
       "    <tr>\n",
       "      <th>2</th>\n",
       "      <td>Algeria</td>\n",
       "      <td>27.3</td>\n",
       "      <td>38.4</td>\n",
       "      <td>4.17</td>\n",
       "      <td>31.4</td>\n",
       "      <td>12900</td>\n",
       "      <td>16.10</td>\n",
       "      <td>76.5</td>\n",
       "      <td>2.89</td>\n",
       "      <td>4460</td>\n",
       "    </tr>\n",
       "    <tr>\n",
       "      <th>3</th>\n",
       "      <td>Angola</td>\n",
       "      <td>119.0</td>\n",
       "      <td>62.3</td>\n",
       "      <td>2.85</td>\n",
       "      <td>42.9</td>\n",
       "      <td>5900</td>\n",
       "      <td>22.40</td>\n",
       "      <td>60.1</td>\n",
       "      <td>6.16</td>\n",
       "      <td>3530</td>\n",
       "    </tr>\n",
       "    <tr>\n",
       "      <th>4</th>\n",
       "      <td>Antigua and Barbuda</td>\n",
       "      <td>10.3</td>\n",
       "      <td>45.5</td>\n",
       "      <td>6.03</td>\n",
       "      <td>58.9</td>\n",
       "      <td>19100</td>\n",
       "      <td>1.44</td>\n",
       "      <td>76.8</td>\n",
       "      <td>2.13</td>\n",
       "      <td>12200</td>\n",
       "    </tr>\n",
       "  </tbody>\n",
       "</table>\n",
       "</div>"
      ],
      "text/plain": [
       "               country  child_mort  exports  health  imports  income  \\\n",
       "0          Afghanistan        90.2     10.0    7.58     44.9    1610   \n",
       "1              Albania        16.6     28.0    6.55     48.6    9930   \n",
       "2              Algeria        27.3     38.4    4.17     31.4   12900   \n",
       "3               Angola       119.0     62.3    2.85     42.9    5900   \n",
       "4  Antigua and Barbuda        10.3     45.5    6.03     58.9   19100   \n",
       "\n",
       "   inflation  life_expec  total_fer   gdpp  \n",
       "0       9.44        56.2       5.82    553  \n",
       "1       4.49        76.3       1.65   4090  \n",
       "2      16.10        76.5       2.89   4460  \n",
       "3      22.40        60.1       6.16   3530  \n",
       "4       1.44        76.8       2.13  12200  "
      ]
     },
     "execution_count": 2,
     "metadata": {},
     "output_type": "execute_result"
    }
   ],
   "source": [
    "df = pd.read_csv('Country-data.csv')\n",
    "df.head()"
   ]
  },
  {
   "cell_type": "code",
   "execution_count": 3,
   "id": "93fcbd54-018a-499f-af93-aaf227ae8c24",
   "metadata": {},
   "outputs": [],
   "source": [
    "country = df['country']"
   ]
  },
  {
   "cell_type": "code",
   "execution_count": 4,
   "id": "159c018e-d893-4d9b-a8ce-25ba2d86cdf8",
   "metadata": {},
   "outputs": [],
   "source": [
    "df = df.drop('country', axis=1)"
   ]
  },
  {
   "cell_type": "code",
   "execution_count": 5,
   "id": "8561769a-a080-44c3-8cfe-a1bba4744d0a",
   "metadata": {},
   "outputs": [
    {
     "data": {
      "text/plain": [
       "<AxesSubplot:>"
      ]
     },
     "execution_count": 5,
     "metadata": {},
     "output_type": "execute_result"
    },
    {
     "data": {
      "image/png": "[encoded data removed]",
      "text/plain": [
       "<Figure size 432x288 with 2 Axes>"
      ]
     },
     "metadata": {
      "needs_background": "light"
     },
     "output_type": "display_data"
    }
   ],
   "source": [
    "sns.heatmap(df.corr(), cmap=\"YlGnBu\")"
   ]
  },
  {
   "cell_type": "code",
   "execution_count": 6,
   "id": "db6988bf-7a3b-4a8c-bf9d-ece03db93c39",
   "metadata": {},
   "outputs": [
    {
     "data": {
      "text/plain": [
       "<AxesSubplot:xlabel='imports', ylabel='exports'>"
      ]
     },
     "execution_count": 6,
     "metadata": {},
     "output_type": "execute_result"
    },
    {
     "data": {
      "image/png": "[encoded data removed]",
      "text/plain": [
       "<Figure size 432x288 with 1 Axes>"
      ]
     },
     "metadata": {
      "needs_background": "light"
     },
     "output_type": "display_data"
    }
   ],
   "source": [
    "sns.kdeplot(data=df, x=df['imports'], y=df['exports'], color='#fc1c03')"
   ]
  },
  {
   "cell_type": "code",
   "execution_count": 7,
   "id": "084019dd-7454-4dad-a154-9fedf7ed28fa",
   "metadata": {},
   "outputs": [
    {
     "data": {
      "text/plain": [
       "<seaborn.axisgrid.JointGrid at 0x7ff8b4db9730>"
      ]
     },
     "execution_count": 7,
     "metadata": {},
     "output_type": "execute_result"
    },
    {
     "data": {
      "image/png": "[encoded data removed]",
      "text/plain": [
       "<Figure size 432x432 with 3 Axes>"
      ]
     },
     "metadata": {
      "needs_background": "light"
     },
     "output_type": "display_data"
    }
   ],
   "source": [
    "sns.jointplot(data=df, x=df['health'], y=df['life_expec'], color='#0390fc')"
   ]
  },
  {
   "cell_type": "code",
   "execution_count": 8,
   "id": "b6247bb6-eb76-495a-ab79-bb201410e9f4",
   "metadata": {},
   "outputs": [],
   "source": [
    "df['child_mort'] = df['child_mort']/df['child_mort'].mean()"
   ]
  },
  {
   "cell_type": "code",
   "execution_count": 9,
   "id": "e73c9711-6f8f-4b10-964f-ac62a75c0e9f",
   "metadata": {},
   "outputs": [],
   "source": [
    "df['exports'] = df['exports']/df['exports'].mean()"
   ]
  },
  {
   "cell_type": "code",
   "execution_count": 10,
   "id": "f1aee7ff-d537-468b-bfad-4f8a33c569ff",
   "metadata": {},
   "outputs": [],
   "source": [
    "df['health'] = df['health']/df['health'].mean()"
   ]
  },
  {
   "cell_type": "code",
   "execution_count": 11,
   "id": "2da6e989-c3d1-4c87-af28-9ec866a87e5d",
   "metadata": {},
   "outputs": [],
   "source": [
    "df['imports'] = df['imports']/df['imports'].mean()"
   ]
  },
  {
   "cell_type": "code",
   "execution_count": 12,
   "id": "b5a8268b-59c5-41e5-a66d-44b09ad9b739",
   "metadata": {},
   "outputs": [],
   "source": [
    "df['income'] = df['income']/df['income'].mean()"
   ]
  },
  {
   "cell_type": "code",
   "execution_count": 13,
   "id": "0bd79476-950e-4270-aac8-cceb03cfe410",
   "metadata": {},
   "outputs": [],
   "source": [
    "df['inflation'] = df['inflation']/df['inflation'].mean()"
   ]
  },
  {
   "cell_type": "code",
   "execution_count": 14,
   "id": "aed11e3d-5a9d-4620-95ce-f40708d32ef0",
   "metadata": {},
   "outputs": [],
   "source": [
    "df['life_expec'] = df['life_expec']/df['life_expec'].mean()"
   ]
  },
  {
   "cell_type": "code",
   "execution_count": 15,
   "id": "e2fbf562-0d08-4036-946f-07ac21659fd7",
   "metadata": {},
   "outputs": [],
   "source": [
    "df['total_fer'] = df['total_fer']/df['total_fer'].mean()"
   ]
  },
  {
   "cell_type": "code",
   "execution_count": 16,
   "id": "5fc8f94b-915a-4aa7-88c8-1ab560a1aea0",
   "metadata": {},
   "outputs": [],
   "source": [
    "df['gdpp'] = df['gdpp']/df['gdpp'].mean()"
   ]
  },
  {
   "cell_type": "code",
   "execution_count": 17,
   "id": "dab7fa45-0952-4647-a1d2-b749ca9774d6",
   "metadata": {},
   "outputs": [
    {
     "data": {
      "text/html": [
       "<div>\n",
       "<style scoped>\n",
       "    .dataframe tbody tr th:only-of-type {\n",
       "        vertical-align: middle;\n",
       "    }\n",
       "\n",
       "    .dataframe tbody tr th {\n",
       "        vertical-align: top;\n",
       "    }\n",
       "\n",
       "    .dataframe thead th {\n",
       "        text-align: right;\n",
       "    }\n",
       "</style>\n",
       "<table border=\"1\" class=\"dataframe\">\n",
       "  <thead>\n",
       "    <tr style=\"text-align: right;\">\n",
       "      <th></th>\n",
       "      <th>child_mort</th>\n",
       "      <th>exports</th>\n",
       "      <th>health</th>\n",
       "      <th>imports</th>\n",
       "      <th>income</th>\n",
       "      <th>inflation</th>\n",
       "      <th>life_expec</th>\n",
       "      <th>total_fer</th>\n",
       "      <th>gdpp</th>\n",
       "    </tr>\n",
       "  </thead>\n",
       "  <tbody>\n",
       "    <tr>\n",
       "      <th>0</th>\n",
       "      <td>2.356934</td>\n",
       "      <td>0.243256</td>\n",
       "      <td>1.112140</td>\n",
       "      <td>0.957556</td>\n",
       "      <td>0.093907</td>\n",
       "      <td>1.213082</td>\n",
       "      <td>0.796534</td>\n",
       "      <td>1.974244</td>\n",
       "      <td>0.042656</td>\n",
       "    </tr>\n",
       "    <tr>\n",
       "      <th>1</th>\n",
       "      <td>0.433759</td>\n",
       "      <td>0.681116</td>\n",
       "      <td>0.961018</td>\n",
       "      <td>1.036464</td>\n",
       "      <td>0.579188</td>\n",
       "      <td>0.576985</td>\n",
       "      <td>1.081415</td>\n",
       "      <td>0.559708</td>\n",
       "      <td>0.315485</td>\n",
       "    </tr>\n",
       "    <tr>\n",
       "      <th>2</th>\n",
       "      <td>0.713351</td>\n",
       "      <td>0.934103</td>\n",
       "      <td>0.611824</td>\n",
       "      <td>0.669649</td>\n",
       "      <td>0.752420</td>\n",
       "      <td>2.068921</td>\n",
       "      <td>1.084250</td>\n",
       "      <td>0.980338</td>\n",
       "      <td>0.344025</td>\n",
       "    </tr>\n",
       "    <tr>\n",
       "      <th>3</th>\n",
       "      <td>3.109480</td>\n",
       "      <td>1.515484</td>\n",
       "      <td>0.418153</td>\n",
       "      <td>0.914903</td>\n",
       "      <td>0.344130</td>\n",
       "      <td>2.878499</td>\n",
       "      <td>0.851809</td>\n",
       "      <td>2.089578</td>\n",
       "      <td>0.272289</td>\n",
       "    </tr>\n",
       "    <tr>\n",
       "      <th>4</th>\n",
       "      <td>0.269140</td>\n",
       "      <td>1.106814</td>\n",
       "      <td>0.884724</td>\n",
       "      <td>1.256126</td>\n",
       "      <td>1.114048</td>\n",
       "      <td>0.185046</td>\n",
       "      <td>1.088502</td>\n",
       "      <td>0.722533</td>\n",
       "      <td>0.941056</td>\n",
       "    </tr>\n",
       "  </tbody>\n",
       "</table>\n",
       "</div>"
      ],
      "text/plain": [
       "   child_mort   exports    health   imports    income  inflation  life_expec  \\\n",
       "0    2.356934  0.243256  1.112140  0.957556  0.093907   1.213082    0.796534   \n",
       "1    0.433759  0.681116  0.961018  1.036464  0.579188   0.576985    1.081415   \n",
       "2    0.713351  0.934103  0.611824  0.669649  0.752420   2.068921    1.084250   \n",
       "3    3.109480  1.515484  0.418153  0.914903  0.344130   2.878499    0.851809   \n",
       "4    0.269140  1.106814  0.884724  1.256126  1.114048   0.185046    1.088502   \n",
       "\n",
       "   total_fer      gdpp  \n",
       "0   1.974244  0.042656  \n",
       "1   0.559708  0.315485  \n",
       "2   0.980338  0.344025  \n",
       "3   2.089578  0.272289  \n",
       "4   0.722533  0.941056  "
      ]
     },
     "execution_count": 17,
     "metadata": {},
     "output_type": "execute_result"
    }
   ],
   "source": [
    "df.head()"
   ]
  },
  {
   "cell_type": "code",
   "execution_count": 18,
   "id": "3a740588-0b73-419a-b732-9fc197896124",
   "metadata": {},
   "outputs": [
    {
     "data": {
      "text/plain": [
       "array([[ 1.11049127, -0.22351991, -0.08511047, -0.06921292, -0.62127484,\n",
       "         0.41265618, -0.1177734 ,  0.45915379, -0.71964973],\n",
       "       [-0.22351991,  0.44463992, -0.03074577,  0.25386408,  0.38747782,\n",
       "        -0.09718591,  0.02658553, -0.10957929,  0.39474842],\n",
       "       [-0.08511047, -0.03074577,  0.1624226 ,  0.01991664,  0.05872059,\n",
       "        -0.13980574,  0.01070277, -0.04070335,  0.19712585],\n",
       "       [-0.06921292,  0.25386408,  0.01991664,  0.26656946,  0.07106286,\n",
       "        -0.17322642,  0.00353959, -0.04216912,  0.08430781],\n",
       "       [-0.62127484,  0.38747782,  0.05872059,  0.07106286,  1.26435141,\n",
       "        -0.22568415,  0.08673279, -0.28977384,  1.42371044],\n",
       "       [ 0.41265618, -0.09718591, -0.13980574, -0.17322642, -0.22568415,\n",
       "         1.84520268, -0.04104155,  0.22107168, -0.42563781],\n",
       "       [-0.1177734 ,  0.02658553,  0.01070277,  0.00353959,  0.08673279,\n",
       "        -0.04104155,  0.01588727, -0.04924904,  0.10693699],\n",
       "       [ 0.45915379, -0.10957929, -0.04070335, -0.04216912, -0.28977384,\n",
       "         0.22107168, -0.04924904,  0.26370594, -0.33027312],\n",
       "       [-0.71964973,  0.39474842,  0.19712585,  0.08430781,  1.42371044,\n",
       "        -0.42563781,  0.10693699, -0.33027312,  1.9988264 ]])"
      ]
     },
     "execution_count": 18,
     "metadata": {},
     "output_type": "execute_result"
    }
   ],
   "source": [
    "features = df.T\n",
    "cov_matrix = np.cov(features)\n",
    "cov_matrix[:9]"
   ]
  },
  {
   "cell_type": "code",
   "execution_count": 19,
   "id": "be44dbcf-9eca-4532-b8a9-b853c151aef8",
   "metadata": {},
   "outputs": [],
   "source": [
    "values, vectors = np.linalg.eig(cov_matrix)"
   ]
  },
  {
   "cell_type": "code",
   "execution_count": 20,
   "id": "30477377-4ba8-482e-b66f-5aaeb84ad08c",
   "metadata": {},
   "outputs": [
    {
     "data": {
      "text/plain": [
       "array([3.93034342e+00, 1.71852360e+00, 7.89372866e-01, 5.36509554e-01,\n",
       "       2.14248044e-01, 2.64625428e-03, 8.17705478e-02, 6.00165061e-02,\n",
       "       3.86661490e-02])"
      ]
     },
     "execution_count": 20,
     "metadata": {},
     "output_type": "execute_result"
    }
   ],
   "source": [
    "values[:9]"
   ]
  },
  {
   "cell_type": "code",
   "execution_count": 21,
   "id": "1bf9d9b3-84fc-462c-8aa2-dbab2eab567c",
   "metadata": {},
   "outputs": [
    {
     "data": {
      "text/plain": [
       "array([[ 3.73043188e-01, -7.27149506e-02,  8.25405642e-01,\n",
       "        -1.08881342e-01,  6.35172766e-02, -9.30994288e-02,\n",
       "         1.45801092e-01,  3.55979248e-01, -4.14796814e-02],\n",
       "       [-1.73896682e-01, -6.05075669e-02, -2.96733176e-02,\n",
       "        -7.49954416e-01,  2.38526619e-02,  1.54844102e-02,\n",
       "        -1.78993762e-01,  1.15376872e-02, -6.08116802e-01],\n",
       "       [-6.30604412e-02,  4.68018749e-02,  4.11179325e-02,\n",
       "         1.61560859e-01, -6.49469474e-01, -2.75530361e-05,\n",
       "         6.05530369e-01, -1.48371061e-01, -3.94396719e-01],\n",
       "       [-6.08618571e-02,  7.63037836e-02, -9.27577428e-04,\n",
       "        -5.98242496e-01, -3.70521151e-01, -3.10331005e-02,\n",
       "         1.82057280e-01, -3.90348259e-02,  6.77983093e-01],\n",
       "       [-5.13777698e-01, -2.65230281e-01,  1.31031645e-01,\n",
       "        -4.78545813e-02,  5.43527001e-01, -4.57257128e-03,\n",
       "         5.66264436e-01, -1.55305273e-01,  7.75137004e-02],\n",
       "       [ 3.00882075e-01, -9.17687080e-01, -2.20098538e-01,\n",
       "        -2.38513629e-02, -1.27666296e-01,  1.12519234e-03,\n",
       "         1.54848647e-02,  2.12467462e-02,  3.62903844e-02],\n",
       "       [-4.73863921e-02, -1.82067508e-03, -7.13852857e-02,\n",
       "         2.15548368e-02, -4.17484321e-03, -9.94814015e-01,\n",
       "        -3.35207297e-02, -2.72735802e-02, -2.55128088e-02],\n",
       "       [ 1.72204898e-01, -4.92225021e-02,  3.38909164e-01,\n",
       "        -2.17863023e-02,  7.45100161e-03, -1.64008954e-03,\n",
       "        -2.02495052e-01, -9.00804969e-01,  8.74687825e-03],\n",
       "       [-6.60696901e-01, -2.60990114e-01,  3.61338535e-01,\n",
       "         1.94728093e-01, -3.52855289e-01,  2.12105205e-02,\n",
       "        -4.28798688e-01,  1.13328615e-01,  7.21856473e-02]])"
      ]
     },
     "execution_count": 21,
     "metadata": {},
     "output_type": "execute_result"
    }
   ],
   "source": [
    "vectors[:9]"
   ]
  },
  {
   "cell_type": "code",
   "execution_count": 22,
   "id": "4cb686d1-c887-45ab-8375-8601bfe2f440",
   "metadata": {},
   "outputs": [
    {
     "name": "stdout",
     "output_type": "stream",
     "text": [
      "1.0 [0.5331377835255419, 0.2331119097981974, 0.10707575770544502, 0.07277570527295317, 0.02906202201883188, 0.0003589554376103408, 0.011091898067015481, 0.008141035930381424, 0.005244932244023552]\n"
     ]
    }
   ],
   "source": [
    "explained_variances = []\n",
    "for i in range(len(values)):\n",
    "    explained_variances.append(values[i] / np.sum(values))\n",
    " \n",
    "print(np.sum(explained_variances),  explained_variances)"
   ]
  },
  {
   "cell_type": "code",
   "execution_count": 23,
   "id": "daa405ba-505a-4f12-817f-c1d620759f63",
   "metadata": {},
   "outputs": [],
   "source": [
    "n_components = 5\n",
    "eigenvector_subset = vectors[:,0:n_components]\n"
   ]
  },
  {
   "cell_type": "code",
   "execution_count": 24,
   "id": "d45b04d9-4df8-4aec-880e-72d57994054f",
   "metadata": {},
   "outputs": [],
   "source": [
    "X_reduced = np.dot(eigenvector_subset.transpose(),df.transpose()).transpose()\n"
   ]
  },
  {
   "cell_type": "code",
   "execution_count": 25,
   "id": "49276473-d97d-4f44-8bd2-1fcbbe6a3989",
   "metadata": {},
   "outputs": [],
   "source": [
    "class KMeansClustering:\n",
    "    def __init__(self, X, num_clusters):\n",
    "        self.K = num_clusters\n",
    "        self.max_iterations = 100\n",
    "        self.plot_figure = True\n",
    "        self.num_examples = X.shape[0]\n",
    "        self.num_features = X.shape[1]\n",
    "\n",
    "    def initialize_random_centroids(self, X):\n",
    "        centroids = np.zeros((self.K, self.num_features))\n",
    "\n",
    "        for k in range(self.K):\n",
    "            centroid = X[np.random.choice(range(self.num_examples))]\n",
    "            centroids[k] = centroid\n",
    "\n",
    "        return centroids\n",
    "\n",
    "    def create_clusters(self, X, centroids):\n",
    "        # Will contain a list of the points that are associated with that specific cluster\n",
    "        clusters = [[] for _ in range(self.K)]\n",
    "\n",
    "        # Loop through each point and check which is the closest cluster\n",
    "        for point_idx, point in enumerate(X):\n",
    "            closest_centroid = np.argmin(\n",
    "                np.sqrt(np.sum((point - centroids) ** 2, axis=1))\n",
    "            )\n",
    "            clusters[closest_centroid].append(point_idx)\n",
    "\n",
    "        return clusters\n",
    "\n",
    "    def calculate_new_centroids(self, clusters, X):\n",
    "        centroids = np.zeros((self.K, self.num_features))\n",
    "        for idx, cluster in enumerate(clusters):\n",
    "            new_centroid = np.mean(X[cluster], axis=0)\n",
    "            centroids[idx] = new_centroid\n",
    "\n",
    "        return centroids\n",
    "\n",
    "    def predict_cluster(self, clusters, X):\n",
    "        y_pred = np.zeros(self.num_examples)\n",
    "\n",
    "        for cluster_idx, cluster in enumerate(clusters):\n",
    "            for sample_idx in cluster:\n",
    "                y_pred[sample_idx] = cluster_idx\n",
    "\n",
    "        return y_pred\n",
    "\n",
    "    def plot_fig(self, X, y):\n",
    "        plt.scatter(X[:, 0], X[:, 1], c=y, s=40, cmap=plt.cm.Spectral)\n",
    "        plt.show()\n",
    "        \n",
    "    \n",
    "\n",
    "    def fit(self, X):\n",
    "        centroids = self.initialize_random_centroids(X)\n",
    "\n",
    "        for it in range(self.max_iterations):\n",
    "            clusters = self.create_clusters(X, centroids)\n",
    "            previous_centroids = centroids\n",
    "            centroids = self.calculate_new_centroids(clusters, X)\n",
    "\n",
    "            diff = centroids - previous_centroids\n",
    "\n",
    "            if not diff.any():\n",
    "                print(\"Termination criterion satisfied\")\n",
    "                break\n",
    "\n",
    "        # Get label predictions\n",
    "        y_pred = self.predict_cluster(clusters, X)\n",
    "\n",
    "        if self.plot_figure:\n",
    "            self.plot_fig(X, y_pred)\n",
    "        return y_pred\n",
    "           \n",
    "        \n",
    "\n",
    "        \n",
    "       \n",
    "    \n"
   ]
  },
  {
   "cell_type": "code",
   "execution_count": 29,
   "id": "1d3381dc-7c63-478d-9aa4-a2509cb9a16e",
   "metadata": {},
   "outputs": [
    {
     "name": "stdout",
     "output_type": "stream",
     "text": [
      "Termination criterion satisfied\n"
     ]
    },
    {
     "data": {
      "image/png": "[encoded data removed]",
      "text/plain": [
       "<Figure size 432x288 with 1 Axes>"
      ]
     },
     "metadata": {
      "needs_background": "light"
     },
     "output_type": "display_data"
    }
   ],
   "source": [
    " Kmeans = KMeansClustering(X_reduced, 6)\n",
    " y_pred = Kmeans.fit(X_reduced)"
   ]
  },
  {
   "cell_type": "code",
   "execution_count": 27,
   "id": "5ce24bac-874d-4f1c-a2fa-da729871addf",
   "metadata": {},
   "outputs": [
    {
     "data": {
      "text/plain": [
       "array([0., 2., 2., 0., 3., 2., 2., 4., 4., 2., 3., 3., 2., 3., 2., 4., 2.,\n",
       "       0., 2., 2., 2., 2., 2., 4., 3., 0., 0., 2., 0., 4., 2., 0., 0., 2.,\n",
       "       2., 2., 0., 0., 0., 2., 0., 3., 3., 3., 4., 2., 2., 2., 2., 0., 0.,\n",
       "       3., 2., 4., 4., 2., 0., 2., 4., 0., 3., 2., 2., 0., 0., 2., 0., 3.,\n",
       "       4., 2., 2., 2., 2., 4., 3., 4., 2., 4., 2., 2., 0., 2., 4., 2., 0.,\n",
       "       3., 3., 0., 0., 3., 3., 5., 2., 0., 0., 3., 3., 0., 3., 0., 3., 2.,\n",
       "       2., 1., 3., 2., 0., 2., 2., 2., 4., 4., 0., 1., 4., 3., 0., 3., 2.,\n",
       "       2., 2., 3., 3., 5., 2., 2., 0., 2., 3., 0., 2., 3., 0., 5., 3., 3.,\n",
       "       2., 2., 3., 4., 2., 2., 0., 2., 4., 4., 2., 0., 3., 0., 0., 2., 2.,\n",
       "       2., 2., 0., 2., 4., 4., 4., 2., 2., 2., 1., 2., 0., 0.])"
      ]
     },
     "execution_count": 27,
     "metadata": {},
     "output_type": "execute_result"
    }
   ],
   "source": [
    "y_pred"
   ]
  },
  {
   "cell_type": "code",
   "execution_count": 32,
   "id": "155afa35-b4c7-4be6-9c04-e029e605c969",
   "metadata": {},
   "outputs": [
    {
     "data": {
      "text/html": [
       "<div>\n",
       "<style scoped>\n",
       "    .dataframe tbody tr th:only-of-type {\n",
       "        vertical-align: middle;\n",
       "    }\n",
       "\n",
       "    .dataframe tbody tr th {\n",
       "        vertical-align: top;\n",
       "    }\n",
       "\n",
       "    .dataframe thead th {\n",
       "        text-align: right;\n",
       "    }\n",
       "</style>\n",
       "<table border=\"1\" class=\"dataframe\">\n",
       "  <thead>\n",
       "    <tr style=\"text-align: right;\">\n",
       "      <th></th>\n",
       "      <th>Country</th>\n",
       "      <th>Cluster</th>\n",
       "    </tr>\n",
       "  </thead>\n",
       "  <tbody>\n",
       "    <tr>\n",
       "      <th>0</th>\n",
       "      <td>Afghanistan</td>\n",
       "      <td>0.0</td>\n",
       "    </tr>\n",
       "    <tr>\n",
       "      <th>1</th>\n",
       "      <td>Albania</td>\n",
       "      <td>4.0</td>\n",
       "    </tr>\n",
       "    <tr>\n",
       "      <th>2</th>\n",
       "      <td>Algeria</td>\n",
       "      <td>5.0</td>\n",
       "    </tr>\n",
       "    <tr>\n",
       "      <th>3</th>\n",
       "      <td>Angola</td>\n",
       "      <td>0.0</td>\n",
       "    </tr>\n",
       "    <tr>\n",
       "      <th>4</th>\n",
       "      <td>Antigua and Barbuda</td>\n",
       "      <td>4.0</td>\n",
       "    </tr>\n",
       "  </tbody>\n",
       "</table>\n",
       "</div>"
      ],
      "text/plain": [
       "               Country  Cluster\n",
       "0          Afghanistan      0.0\n",
       "1              Albania      4.0\n",
       "2              Algeria      5.0\n",
       "3               Angola      0.0\n",
       "4  Antigua and Barbuda      4.0"
      ]
     },
     "execution_count": 32,
     "metadata": {},
     "output_type": "execute_result"
    }
   ],
   "source": [
    "cluster_country = pd.DataFrame({'Country':country,'Cluster':y_pred})\n",
    "cluster_country.head()"
   ]
  },
  {
   "cell_type": "code",
   "execution_count": 33,
   "id": "cba16867-68c9-4eff-b378-11834f2482c0",
   "metadata": {},
   "outputs": [
    {
     "data": {
      "text/plain": [
       "(40, 2)"
      ]
     },
     "execution_count": 33,
     "metadata": {},
     "output_type": "execute_result"
    }
   ],
   "source": [
    "cluster0 = cluster_country[cluster_country['Cluster'] == 0]\n",
    "cluster0.shape"
   ]
  },
  {
   "cell_type": "code",
   "execution_count": 34,
   "id": "fcdebf87-058f-4d52-8f52-75d5c5822140",
   "metadata": {},
   "outputs": [
    {
     "data": {
      "text/html": [
       "<div>\n",
       "<style scoped>\n",
       "    .dataframe tbody tr th:only-of-type {\n",
       "        vertical-align: middle;\n",
       "    }\n",
       "\n",
       "    .dataframe tbody tr th {\n",
       "        vertical-align: top;\n",
       "    }\n",
       "\n",
       "    .dataframe thead th {\n",
       "        text-align: right;\n",
       "    }\n",
       "</style>\n",
       "<table border=\"1\" class=\"dataframe\">\n",
       "  <thead>\n",
       "    <tr style=\"text-align: right;\">\n",
       "      <th></th>\n",
       "      <th>Country</th>\n",
       "      <th>Cluster</th>\n",
       "    </tr>\n",
       "  </thead>\n",
       "  <tbody>\n",
       "    <tr>\n",
       "      <th>0</th>\n",
       "      <td>Afghanistan</td>\n",
       "      <td>0.0</td>\n",
       "    </tr>\n",
       "    <tr>\n",
       "      <th>3</th>\n",
       "      <td>Angola</td>\n",
       "      <td>0.0</td>\n",
       "    </tr>\n",
       "    <tr>\n",
       "      <th>17</th>\n",
       "      <td>Benin</td>\n",
       "      <td>0.0</td>\n",
       "    </tr>\n",
       "    <tr>\n",
       "      <th>25</th>\n",
       "      <td>Burkina Faso</td>\n",
       "      <td>0.0</td>\n",
       "    </tr>\n",
       "    <tr>\n",
       "      <th>26</th>\n",
       "      <td>Burundi</td>\n",
       "      <td>0.0</td>\n",
       "    </tr>\n",
       "    <tr>\n",
       "      <th>28</th>\n",
       "      <td>Cameroon</td>\n",
       "      <td>0.0</td>\n",
       "    </tr>\n",
       "    <tr>\n",
       "      <th>31</th>\n",
       "      <td>Central African Republic</td>\n",
       "      <td>0.0</td>\n",
       "    </tr>\n",
       "    <tr>\n",
       "      <th>32</th>\n",
       "      <td>Chad</td>\n",
       "      <td>0.0</td>\n",
       "    </tr>\n",
       "    <tr>\n",
       "      <th>36</th>\n",
       "      <td>Comoros</td>\n",
       "      <td>0.0</td>\n",
       "    </tr>\n",
       "    <tr>\n",
       "      <th>37</th>\n",
       "      <td>Congo, Dem. Rep.</td>\n",
       "      <td>0.0</td>\n",
       "    </tr>\n",
       "    <tr>\n",
       "      <th>40</th>\n",
       "      <td>Cote d'Ivoire</td>\n",
       "      <td>0.0</td>\n",
       "    </tr>\n",
       "    <tr>\n",
       "      <th>50</th>\n",
       "      <td>Eritrea</td>\n",
       "      <td>0.0</td>\n",
       "    </tr>\n",
       "    <tr>\n",
       "      <th>56</th>\n",
       "      <td>Gambia</td>\n",
       "      <td>0.0</td>\n",
       "    </tr>\n",
       "    <tr>\n",
       "      <th>59</th>\n",
       "      <td>Ghana</td>\n",
       "      <td>0.0</td>\n",
       "    </tr>\n",
       "    <tr>\n",
       "      <th>63</th>\n",
       "      <td>Guinea</td>\n",
       "      <td>0.0</td>\n",
       "    </tr>\n",
       "    <tr>\n",
       "      <th>64</th>\n",
       "      <td>Guinea-Bissau</td>\n",
       "      <td>0.0</td>\n",
       "    </tr>\n",
       "    <tr>\n",
       "      <th>66</th>\n",
       "      <td>Haiti</td>\n",
       "      <td>0.0</td>\n",
       "    </tr>\n",
       "    <tr>\n",
       "      <th>69</th>\n",
       "      <td>India</td>\n",
       "      <td>0.0</td>\n",
       "    </tr>\n",
       "    <tr>\n",
       "      <th>80</th>\n",
       "      <td>Kenya</td>\n",
       "      <td>0.0</td>\n",
       "    </tr>\n",
       "    <tr>\n",
       "      <th>81</th>\n",
       "      <td>Kiribati</td>\n",
       "      <td>0.0</td>\n",
       "    </tr>\n",
       "    <tr>\n",
       "      <th>84</th>\n",
       "      <td>Lao</td>\n",
       "      <td>0.0</td>\n",
       "    </tr>\n",
       "    <tr>\n",
       "      <th>87</th>\n",
       "      <td>Lesotho</td>\n",
       "      <td>0.0</td>\n",
       "    </tr>\n",
       "    <tr>\n",
       "      <th>88</th>\n",
       "      <td>Liberia</td>\n",
       "      <td>0.0</td>\n",
       "    </tr>\n",
       "    <tr>\n",
       "      <th>93</th>\n",
       "      <td>Madagascar</td>\n",
       "      <td>0.0</td>\n",
       "    </tr>\n",
       "    <tr>\n",
       "      <th>94</th>\n",
       "      <td>Malawi</td>\n",
       "      <td>0.0</td>\n",
       "    </tr>\n",
       "    <tr>\n",
       "      <th>97</th>\n",
       "      <td>Mali</td>\n",
       "      <td>0.0</td>\n",
       "    </tr>\n",
       "    <tr>\n",
       "      <th>99</th>\n",
       "      <td>Mauritania</td>\n",
       "      <td>0.0</td>\n",
       "    </tr>\n",
       "    <tr>\n",
       "      <th>106</th>\n",
       "      <td>Mozambique</td>\n",
       "      <td>0.0</td>\n",
       "    </tr>\n",
       "    <tr>\n",
       "      <th>107</th>\n",
       "      <td>Myanmar</td>\n",
       "      <td>0.0</td>\n",
       "    </tr>\n",
       "    <tr>\n",
       "      <th>112</th>\n",
       "      <td>Niger</td>\n",
       "      <td>0.0</td>\n",
       "    </tr>\n",
       "    <tr>\n",
       "      <th>116</th>\n",
       "      <td>Pakistan</td>\n",
       "      <td>0.0</td>\n",
       "    </tr>\n",
       "    <tr>\n",
       "      <th>126</th>\n",
       "      <td>Rwanda</td>\n",
       "      <td>0.0</td>\n",
       "    </tr>\n",
       "    <tr>\n",
       "      <th>129</th>\n",
       "      <td>Senegal</td>\n",
       "      <td>0.0</td>\n",
       "    </tr>\n",
       "    <tr>\n",
       "      <th>132</th>\n",
       "      <td>Sierra Leone</td>\n",
       "      <td>0.0</td>\n",
       "    </tr>\n",
       "    <tr>\n",
       "      <th>142</th>\n",
       "      <td>Sudan</td>\n",
       "      <td>0.0</td>\n",
       "    </tr>\n",
       "    <tr>\n",
       "      <th>146</th>\n",
       "      <td>Tajikistan</td>\n",
       "      <td>0.0</td>\n",
       "    </tr>\n",
       "    <tr>\n",
       "      <th>147</th>\n",
       "      <td>Tanzania</td>\n",
       "      <td>0.0</td>\n",
       "    </tr>\n",
       "    <tr>\n",
       "      <th>150</th>\n",
       "      <td>Togo</td>\n",
       "      <td>0.0</td>\n",
       "    </tr>\n",
       "    <tr>\n",
       "      <th>155</th>\n",
       "      <td>Uganda</td>\n",
       "      <td>0.0</td>\n",
       "    </tr>\n",
       "    <tr>\n",
       "      <th>166</th>\n",
       "      <td>Zambia</td>\n",
       "      <td>0.0</td>\n",
       "    </tr>\n",
       "  </tbody>\n",
       "</table>\n",
       "</div>"
      ],
      "text/plain": [
       "                      Country  Cluster\n",
       "0                 Afghanistan      0.0\n",
       "3                      Angola      0.0\n",
       "17                      Benin      0.0\n",
       "25               Burkina Faso      0.0\n",
       "26                    Burundi      0.0\n",
       "28                   Cameroon      0.0\n",
       "31   Central African Republic      0.0\n",
       "32                       Chad      0.0\n",
       "36                    Comoros      0.0\n",
       "37           Congo, Dem. Rep.      0.0\n",
       "40              Cote d'Ivoire      0.0\n",
       "50                    Eritrea      0.0\n",
       "56                     Gambia      0.0\n",
       "59                      Ghana      0.0\n",
       "63                     Guinea      0.0\n",
       "64              Guinea-Bissau      0.0\n",
       "66                      Haiti      0.0\n",
       "69                      India      0.0\n",
       "80                      Kenya      0.0\n",
       "81                   Kiribati      0.0\n",
       "84                        Lao      0.0\n",
       "87                    Lesotho      0.0\n",
       "88                    Liberia      0.0\n",
       "93                 Madagascar      0.0\n",
       "94                     Malawi      0.0\n",
       "97                       Mali      0.0\n",
       "99                 Mauritania      0.0\n",
       "106                Mozambique      0.0\n",
       "107                   Myanmar      0.0\n",
       "112                     Niger      0.0\n",
       "116                  Pakistan      0.0\n",
       "126                    Rwanda      0.0\n",
       "129                   Senegal      0.0\n",
       "132              Sierra Leone      0.0\n",
       "142                     Sudan      0.0\n",
       "146                Tajikistan      0.0\n",
       "147                  Tanzania      0.0\n",
       "150                      Togo      0.0\n",
       "155                    Uganda      0.0\n",
       "166                    Zambia      0.0"
      ]
     },
     "execution_count": 34,
     "metadata": {},
     "output_type": "execute_result"
    }
   ],
   "source": [
    "cluster0"
   ]
  },
  {
   "cell_type": "code",
   "execution_count": 35,
   "id": "10f1c279-4eb8-41b7-9eb6-e4a351514162",
   "metadata": {},
   "outputs": [
    {
     "data": {
      "text/plain": [
       "(29, 2)"
      ]
     },
     "execution_count": 35,
     "metadata": {},
     "output_type": "execute_result"
    }
   ],
   "source": [
    "cluster1 = cluster_country[cluster_country['Cluster'] == 1]\n",
    "cluster1.shape"
   ]
  },
  {
   "cell_type": "code",
   "execution_count": 36,
   "id": "cc177c18-fd1a-4535-8eee-0c4c877eddae",
   "metadata": {},
   "outputs": [
    {
     "data": {
      "text/html": [
       "<div>\n",
       "<style scoped>\n",
       "    .dataframe tbody tr th:only-of-type {\n",
       "        vertical-align: middle;\n",
       "    }\n",
       "\n",
       "    .dataframe tbody tr th {\n",
       "        vertical-align: top;\n",
       "    }\n",
       "\n",
       "    .dataframe thead th {\n",
       "        text-align: right;\n",
       "    }\n",
       "</style>\n",
       "<table border=\"1\" class=\"dataframe\">\n",
       "  <thead>\n",
       "    <tr style=\"text-align: right;\">\n",
       "      <th></th>\n",
       "      <th>Country</th>\n",
       "      <th>Cluster</th>\n",
       "    </tr>\n",
       "  </thead>\n",
       "  <tbody>\n",
       "    <tr>\n",
       "      <th>7</th>\n",
       "      <td>Australia</td>\n",
       "      <td>1.0</td>\n",
       "    </tr>\n",
       "    <tr>\n",
       "      <th>8</th>\n",
       "      <td>Austria</td>\n",
       "      <td>1.0</td>\n",
       "    </tr>\n",
       "    <tr>\n",
       "      <th>10</th>\n",
       "      <td>Bahamas</td>\n",
       "      <td>1.0</td>\n",
       "    </tr>\n",
       "    <tr>\n",
       "      <th>11</th>\n",
       "      <td>Bahrain</td>\n",
       "      <td>1.0</td>\n",
       "    </tr>\n",
       "    <tr>\n",
       "      <th>15</th>\n",
       "      <td>Belgium</td>\n",
       "      <td>1.0</td>\n",
       "    </tr>\n",
       "    <tr>\n",
       "      <th>23</th>\n",
       "      <td>Brunei</td>\n",
       "      <td>1.0</td>\n",
       "    </tr>\n",
       "    <tr>\n",
       "      <th>29</th>\n",
       "      <td>Canada</td>\n",
       "      <td>1.0</td>\n",
       "    </tr>\n",
       "    <tr>\n",
       "      <th>42</th>\n",
       "      <td>Cyprus</td>\n",
       "      <td>1.0</td>\n",
       "    </tr>\n",
       "    <tr>\n",
       "      <th>44</th>\n",
       "      <td>Denmark</td>\n",
       "      <td>1.0</td>\n",
       "    </tr>\n",
       "    <tr>\n",
       "      <th>53</th>\n",
       "      <td>Finland</td>\n",
       "      <td>1.0</td>\n",
       "    </tr>\n",
       "    <tr>\n",
       "      <th>54</th>\n",
       "      <td>France</td>\n",
       "      <td>1.0</td>\n",
       "    </tr>\n",
       "    <tr>\n",
       "      <th>58</th>\n",
       "      <td>Germany</td>\n",
       "      <td>1.0</td>\n",
       "    </tr>\n",
       "    <tr>\n",
       "      <th>60</th>\n",
       "      <td>Greece</td>\n",
       "      <td>1.0</td>\n",
       "    </tr>\n",
       "    <tr>\n",
       "      <th>68</th>\n",
       "      <td>Iceland</td>\n",
       "      <td>1.0</td>\n",
       "    </tr>\n",
       "    <tr>\n",
       "      <th>73</th>\n",
       "      <td>Ireland</td>\n",
       "      <td>1.0</td>\n",
       "    </tr>\n",
       "    <tr>\n",
       "      <th>74</th>\n",
       "      <td>Israel</td>\n",
       "      <td>1.0</td>\n",
       "    </tr>\n",
       "    <tr>\n",
       "      <th>75</th>\n",
       "      <td>Italy</td>\n",
       "      <td>1.0</td>\n",
       "    </tr>\n",
       "    <tr>\n",
       "      <th>77</th>\n",
       "      <td>Japan</td>\n",
       "      <td>1.0</td>\n",
       "    </tr>\n",
       "    <tr>\n",
       "      <th>82</th>\n",
       "      <td>Kuwait</td>\n",
       "      <td>1.0</td>\n",
       "    </tr>\n",
       "    <tr>\n",
       "      <th>110</th>\n",
       "      <td>Netherlands</td>\n",
       "      <td>1.0</td>\n",
       "    </tr>\n",
       "    <tr>\n",
       "      <th>111</th>\n",
       "      <td>New Zealand</td>\n",
       "      <td>1.0</td>\n",
       "    </tr>\n",
       "    <tr>\n",
       "      <th>122</th>\n",
       "      <td>Portugal</td>\n",
       "      <td>1.0</td>\n",
       "    </tr>\n",
       "    <tr>\n",
       "      <th>135</th>\n",
       "      <td>Slovenia</td>\n",
       "      <td>1.0</td>\n",
       "    </tr>\n",
       "    <tr>\n",
       "      <th>138</th>\n",
       "      <td>South Korea</td>\n",
       "      <td>1.0</td>\n",
       "    </tr>\n",
       "    <tr>\n",
       "      <th>139</th>\n",
       "      <td>Spain</td>\n",
       "      <td>1.0</td>\n",
       "    </tr>\n",
       "    <tr>\n",
       "      <th>144</th>\n",
       "      <td>Sweden</td>\n",
       "      <td>1.0</td>\n",
       "    </tr>\n",
       "    <tr>\n",
       "      <th>157</th>\n",
       "      <td>United Arab Emirates</td>\n",
       "      <td>1.0</td>\n",
       "    </tr>\n",
       "    <tr>\n",
       "      <th>158</th>\n",
       "      <td>United Kingdom</td>\n",
       "      <td>1.0</td>\n",
       "    </tr>\n",
       "    <tr>\n",
       "      <th>159</th>\n",
       "      <td>United States</td>\n",
       "      <td>1.0</td>\n",
       "    </tr>\n",
       "  </tbody>\n",
       "</table>\n",
       "</div>"
      ],
      "text/plain": [
       "                  Country  Cluster\n",
       "7               Australia      1.0\n",
       "8                 Austria      1.0\n",
       "10                Bahamas      1.0\n",
       "11                Bahrain      1.0\n",
       "15                Belgium      1.0\n",
       "23                 Brunei      1.0\n",
       "29                 Canada      1.0\n",
       "42                 Cyprus      1.0\n",
       "44                Denmark      1.0\n",
       "53                Finland      1.0\n",
       "54                 France      1.0\n",
       "58                Germany      1.0\n",
       "60                 Greece      1.0\n",
       "68                Iceland      1.0\n",
       "73                Ireland      1.0\n",
       "74                 Israel      1.0\n",
       "75                  Italy      1.0\n",
       "77                  Japan      1.0\n",
       "82                 Kuwait      1.0\n",
       "110           Netherlands      1.0\n",
       "111           New Zealand      1.0\n",
       "122              Portugal      1.0\n",
       "135              Slovenia      1.0\n",
       "138           South Korea      1.0\n",
       "139                 Spain      1.0\n",
       "144                Sweden      1.0\n",
       "157  United Arab Emirates      1.0\n",
       "158        United Kingdom      1.0\n",
       "159         United States      1.0"
      ]
     },
     "execution_count": 36,
     "metadata": {},
     "output_type": "execute_result"
    }
   ],
   "source": [
    "cluster1"
   ]
  },
  {
   "cell_type": "code",
   "execution_count": 37,
   "id": "cc40cc04-1ffa-4af9-b351-8305fb557252",
   "metadata": {},
   "outputs": [
    {
     "data": {
      "text/plain": [
       "(5, 2)"
      ]
     },
     "execution_count": 37,
     "metadata": {},
     "output_type": "execute_result"
    }
   ],
   "source": [
    "cluster2 = cluster_country[cluster_country['Cluster'] == 2]\n",
    "cluster2.shape"
   ]
  },
  {
   "cell_type": "code",
   "execution_count": 38,
   "id": "8394ccc2-bfe9-4b22-9709-8bd398884b06",
   "metadata": {},
   "outputs": [
    {
     "data": {
      "text/html": [
       "<div>\n",
       "<style scoped>\n",
       "    .dataframe tbody tr th:only-of-type {\n",
       "        vertical-align: middle;\n",
       "    }\n",
       "\n",
       "    .dataframe tbody tr th {\n",
       "        vertical-align: top;\n",
       "    }\n",
       "\n",
       "    .dataframe thead th {\n",
       "        text-align: right;\n",
       "    }\n",
       "</style>\n",
       "<table border=\"1\" class=\"dataframe\">\n",
       "  <thead>\n",
       "    <tr style=\"text-align: right;\">\n",
       "      <th></th>\n",
       "      <th>Country</th>\n",
       "      <th>Cluster</th>\n",
       "    </tr>\n",
       "  </thead>\n",
       "  <tbody>\n",
       "    <tr>\n",
       "      <th>91</th>\n",
       "      <td>Luxembourg</td>\n",
       "      <td>2.0</td>\n",
       "    </tr>\n",
       "    <tr>\n",
       "      <th>114</th>\n",
       "      <td>Norway</td>\n",
       "      <td>2.0</td>\n",
       "    </tr>\n",
       "    <tr>\n",
       "      <th>123</th>\n",
       "      <td>Qatar</td>\n",
       "      <td>2.0</td>\n",
       "    </tr>\n",
       "    <tr>\n",
       "      <th>133</th>\n",
       "      <td>Singapore</td>\n",
       "      <td>2.0</td>\n",
       "    </tr>\n",
       "    <tr>\n",
       "      <th>145</th>\n",
       "      <td>Switzerland</td>\n",
       "      <td>2.0</td>\n",
       "    </tr>\n",
       "  </tbody>\n",
       "</table>\n",
       "</div>"
      ],
      "text/plain": [
       "         Country  Cluster\n",
       "91    Luxembourg      2.0\n",
       "114       Norway      2.0\n",
       "123        Qatar      2.0\n",
       "133    Singapore      2.0\n",
       "145  Switzerland      2.0"
      ]
     },
     "execution_count": 38,
     "metadata": {},
     "output_type": "execute_result"
    }
   ],
   "source": [
    "cluster2"
   ]
  },
  {
   "cell_type": "code",
   "execution_count": 39,
   "id": "6873af06-7f8b-49ab-9f7f-c684436c4130",
   "metadata": {},
   "outputs": [
    {
     "data": {
      "text/plain": [
       "(1, 2)"
      ]
     },
     "execution_count": 39,
     "metadata": {},
     "output_type": "execute_result"
    }
   ],
   "source": [
    "cluster3 = cluster_country[cluster_country['Cluster'] == 3]\n",
    "cluster3.shape"
   ]
  },
  {
   "cell_type": "code",
   "execution_count": 40,
   "id": "3b627b97-1908-41c0-aba4-be13a9462003",
   "metadata": {},
   "outputs": [
    {
     "data": {
      "text/html": [
       "<div>\n",
       "<style scoped>\n",
       "    .dataframe tbody tr th:only-of-type {\n",
       "        vertical-align: middle;\n",
       "    }\n",
       "\n",
       "    .dataframe tbody tr th {\n",
       "        vertical-align: top;\n",
       "    }\n",
       "\n",
       "    .dataframe thead th {\n",
       "        text-align: right;\n",
       "    }\n",
       "</style>\n",
       "<table border=\"1\" class=\"dataframe\">\n",
       "  <thead>\n",
       "    <tr style=\"text-align: right;\">\n",
       "      <th></th>\n",
       "      <th>Country</th>\n",
       "      <th>Cluster</th>\n",
       "    </tr>\n",
       "  </thead>\n",
       "  <tbody>\n",
       "    <tr>\n",
       "      <th>113</th>\n",
       "      <td>Nigeria</td>\n",
       "      <td>3.0</td>\n",
       "    </tr>\n",
       "  </tbody>\n",
       "</table>\n",
       "</div>"
      ],
      "text/plain": [
       "     Country  Cluster\n",
       "113  Nigeria      3.0"
      ]
     },
     "execution_count": 40,
     "metadata": {},
     "output_type": "execute_result"
    }
   ],
   "source": [
    "cluster3"
   ]
  },
  {
   "cell_type": "code",
   "execution_count": 41,
   "id": "86fe9a06-6497-4276-a064-65cb467b3cef",
   "metadata": {},
   "outputs": [
    {
     "data": {
      "text/plain": [
       "(70, 2)"
      ]
     },
     "execution_count": 41,
     "metadata": {},
     "output_type": "execute_result"
    }
   ],
   "source": [
    "cluster4 = cluster_country[cluster_country['Cluster'] == 4]\n",
    "cluster4.shape"
   ]
  },
  {
   "cell_type": "code",
   "execution_count": 42,
   "id": "7d88888a-5aa6-416d-a99d-9c939de008e2",
   "metadata": {},
   "outputs": [
    {
     "data": {
      "text/html": [
       "<div>\n",
       "<style scoped>\n",
       "    .dataframe tbody tr th:only-of-type {\n",
       "        vertical-align: middle;\n",
       "    }\n",
       "\n",
       "    .dataframe tbody tr th {\n",
       "        vertical-align: top;\n",
       "    }\n",
       "\n",
       "    .dataframe thead th {\n",
       "        text-align: right;\n",
       "    }\n",
       "</style>\n",
       "<table border=\"1\" class=\"dataframe\">\n",
       "  <thead>\n",
       "    <tr style=\"text-align: right;\">\n",
       "      <th></th>\n",
       "      <th>Country</th>\n",
       "      <th>Cluster</th>\n",
       "    </tr>\n",
       "  </thead>\n",
       "  <tbody>\n",
       "    <tr>\n",
       "      <th>1</th>\n",
       "      <td>Albania</td>\n",
       "      <td>4.0</td>\n",
       "    </tr>\n",
       "    <tr>\n",
       "      <th>4</th>\n",
       "      <td>Antigua and Barbuda</td>\n",
       "      <td>4.0</td>\n",
       "    </tr>\n",
       "    <tr>\n",
       "      <th>6</th>\n",
       "      <td>Armenia</td>\n",
       "      <td>4.0</td>\n",
       "    </tr>\n",
       "    <tr>\n",
       "      <th>12</th>\n",
       "      <td>Bangladesh</td>\n",
       "      <td>4.0</td>\n",
       "    </tr>\n",
       "    <tr>\n",
       "      <th>13</th>\n",
       "      <td>Barbados</td>\n",
       "      <td>4.0</td>\n",
       "    </tr>\n",
       "    <tr>\n",
       "      <th>...</th>\n",
       "      <td>...</td>\n",
       "      <td>...</td>\n",
       "    </tr>\n",
       "    <tr>\n",
       "      <th>154</th>\n",
       "      <td>Turkmenistan</td>\n",
       "      <td>4.0</td>\n",
       "    </tr>\n",
       "    <tr>\n",
       "      <th>156</th>\n",
       "      <td>Ukraine</td>\n",
       "      <td>4.0</td>\n",
       "    </tr>\n",
       "    <tr>\n",
       "      <th>160</th>\n",
       "      <td>Uruguay</td>\n",
       "      <td>4.0</td>\n",
       "    </tr>\n",
       "    <tr>\n",
       "      <th>162</th>\n",
       "      <td>Vanuatu</td>\n",
       "      <td>4.0</td>\n",
       "    </tr>\n",
       "    <tr>\n",
       "      <th>164</th>\n",
       "      <td>Vietnam</td>\n",
       "      <td>4.0</td>\n",
       "    </tr>\n",
       "  </tbody>\n",
       "</table>\n",
       "<p>70 rows × 2 columns</p>\n",
       "</div>"
      ],
      "text/plain": [
       "                 Country  Cluster\n",
       "1                Albania      4.0\n",
       "4    Antigua and Barbuda      4.0\n",
       "6                Armenia      4.0\n",
       "12            Bangladesh      4.0\n",
       "13              Barbados      4.0\n",
       "..                   ...      ...\n",
       "154         Turkmenistan      4.0\n",
       "156              Ukraine      4.0\n",
       "160              Uruguay      4.0\n",
       "162              Vanuatu      4.0\n",
       "164              Vietnam      4.0\n",
       "\n",
       "[70 rows x 2 columns]"
      ]
     },
     "execution_count": 42,
     "metadata": {},
     "output_type": "execute_result"
    }
   ],
   "source": [
    "cluster4"
   ]
  },
  {
   "cell_type": "code",
   "execution_count": 43,
   "id": "88920abc-2967-478b-ab23-f3fb0736ddd6",
   "metadata": {},
   "outputs": [
    {
     "data": {
      "text/plain": [
       "(22, 2)"
      ]
     },
     "execution_count": 43,
     "metadata": {},
     "output_type": "execute_result"
    }
   ],
   "source": [
    "cluster5 = cluster_country[cluster_country['Cluster'] == 5]\n",
    "cluster5.shape"
   ]
  },
  {
   "cell_type": "code",
   "execution_count": 44,
   "id": "64adab89-ac83-438a-b2a1-ea92fe781260",
   "metadata": {},
   "outputs": [
    {
     "data": {
      "text/html": [
       "<div>\n",
       "<style scoped>\n",
       "    .dataframe tbody tr th:only-of-type {\n",
       "        vertical-align: middle;\n",
       "    }\n",
       "\n",
       "    .dataframe tbody tr th {\n",
       "        vertical-align: top;\n",
       "    }\n",
       "\n",
       "    .dataframe thead th {\n",
       "        text-align: right;\n",
       "    }\n",
       "</style>\n",
       "<table border=\"1\" class=\"dataframe\">\n",
       "  <thead>\n",
       "    <tr style=\"text-align: right;\">\n",
       "      <th></th>\n",
       "      <th>Country</th>\n",
       "      <th>Cluster</th>\n",
       "    </tr>\n",
       "  </thead>\n",
       "  <tbody>\n",
       "    <tr>\n",
       "      <th>2</th>\n",
       "      <td>Algeria</td>\n",
       "      <td>5.0</td>\n",
       "    </tr>\n",
       "    <tr>\n",
       "      <th>5</th>\n",
       "      <td>Argentina</td>\n",
       "      <td>5.0</td>\n",
       "    </tr>\n",
       "    <tr>\n",
       "      <th>9</th>\n",
       "      <td>Azerbaijan</td>\n",
       "      <td>5.0</td>\n",
       "    </tr>\n",
       "    <tr>\n",
       "      <th>14</th>\n",
       "      <td>Belarus</td>\n",
       "      <td>5.0</td>\n",
       "    </tr>\n",
       "    <tr>\n",
       "      <th>38</th>\n",
       "      <td>Congo, Rep.</td>\n",
       "      <td>5.0</td>\n",
       "    </tr>\n",
       "    <tr>\n",
       "      <th>49</th>\n",
       "      <td>Equatorial Guinea</td>\n",
       "      <td>5.0</td>\n",
       "    </tr>\n",
       "    <tr>\n",
       "      <th>55</th>\n",
       "      <td>Gabon</td>\n",
       "      <td>5.0</td>\n",
       "    </tr>\n",
       "    <tr>\n",
       "      <th>70</th>\n",
       "      <td>Indonesia</td>\n",
       "      <td>5.0</td>\n",
       "    </tr>\n",
       "    <tr>\n",
       "      <th>71</th>\n",
       "      <td>Iran</td>\n",
       "      <td>5.0</td>\n",
       "    </tr>\n",
       "    <tr>\n",
       "      <th>72</th>\n",
       "      <td>Iraq</td>\n",
       "      <td>5.0</td>\n",
       "    </tr>\n",
       "    <tr>\n",
       "      <th>79</th>\n",
       "      <td>Kazakhstan</td>\n",
       "      <td>5.0</td>\n",
       "    </tr>\n",
       "    <tr>\n",
       "      <th>89</th>\n",
       "      <td>Libya</td>\n",
       "      <td>5.0</td>\n",
       "    </tr>\n",
       "    <tr>\n",
       "      <th>103</th>\n",
       "      <td>Mongolia</td>\n",
       "      <td>5.0</td>\n",
       "    </tr>\n",
       "    <tr>\n",
       "      <th>109</th>\n",
       "      <td>Nepal</td>\n",
       "      <td>5.0</td>\n",
       "    </tr>\n",
       "    <tr>\n",
       "      <th>115</th>\n",
       "      <td>Oman</td>\n",
       "      <td>5.0</td>\n",
       "    </tr>\n",
       "    <tr>\n",
       "      <th>125</th>\n",
       "      <td>Russia</td>\n",
       "      <td>5.0</td>\n",
       "    </tr>\n",
       "    <tr>\n",
       "      <th>128</th>\n",
       "      <td>Saudi Arabia</td>\n",
       "      <td>5.0</td>\n",
       "    </tr>\n",
       "    <tr>\n",
       "      <th>140</th>\n",
       "      <td>Sri Lanka</td>\n",
       "      <td>5.0</td>\n",
       "    </tr>\n",
       "    <tr>\n",
       "      <th>149</th>\n",
       "      <td>Timor-Leste</td>\n",
       "      <td>5.0</td>\n",
       "    </tr>\n",
       "    <tr>\n",
       "      <th>161</th>\n",
       "      <td>Uzbekistan</td>\n",
       "      <td>5.0</td>\n",
       "    </tr>\n",
       "    <tr>\n",
       "      <th>163</th>\n",
       "      <td>Venezuela</td>\n",
       "      <td>5.0</td>\n",
       "    </tr>\n",
       "    <tr>\n",
       "      <th>165</th>\n",
       "      <td>Yemen</td>\n",
       "      <td>5.0</td>\n",
       "    </tr>\n",
       "  </tbody>\n",
       "</table>\n",
       "</div>"
      ],
      "text/plain": [
       "               Country  Cluster\n",
       "2              Algeria      5.0\n",
       "5            Argentina      5.0\n",
       "9           Azerbaijan      5.0\n",
       "14             Belarus      5.0\n",
       "38         Congo, Rep.      5.0\n",
       "49   Equatorial Guinea      5.0\n",
       "55               Gabon      5.0\n",
       "70           Indonesia      5.0\n",
       "71                Iran      5.0\n",
       "72                Iraq      5.0\n",
       "79          Kazakhstan      5.0\n",
       "89               Libya      5.0\n",
       "103           Mongolia      5.0\n",
       "109              Nepal      5.0\n",
       "115               Oman      5.0\n",
       "125             Russia      5.0\n",
       "128       Saudi Arabia      5.0\n",
       "140          Sri Lanka      5.0\n",
       "149        Timor-Leste      5.0\n",
       "161         Uzbekistan      5.0\n",
       "163          Venezuela      5.0\n",
       "165              Yemen      5.0"
      ]
     },
     "execution_count": 44,
     "metadata": {},
     "output_type": "execute_result"
    }
   ],
   "source": [
    "cluster5"
   ]
  },
  {
   "cell_type": "code",
   "execution_count": null,
   "id": "f3c8c4e0-4202-4a72-984d-f9e05e5fe527",
   "metadata": {},
   "outputs": [],
   "source": []
  }
 ],
 "metadata": {
  "kernelspec": {
   "display_name": "Python 3",
   "language": "python",
   "name": "python3"
  },
  "language_info": {
   "codemirror_mode": {
    "name": "ipython",
    "version": 3
   },
   "file_extension": ".py",
   "mimetype": "text/x-python",
   "name": "python",
   "nbconvert_exporter": "python",
   "pygments_lexer": "ipython3",
   "version": "3.8.8"
  }
 },
 "nbformat": 4,
 "nbformat_minor": 5
}
